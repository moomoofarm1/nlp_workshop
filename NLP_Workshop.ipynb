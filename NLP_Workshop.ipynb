{
  "nbformat": 4,
  "nbformat_minor": 0,
  "metadata": {
    "colab": {
      "name": "NLP Workshop.ipynb",
      "provenance": [],
      "collapsed_sections": []
    },
    "kernelspec": {
      "name": "python3",
      "display_name": "Python 3"
    },
    "language_info": {
      "name": "python"
    }
  },
  "cells": [
    {
      "cell_type": "markdown",
      "source": [
        "# NLP Workshop (05.06.2022)\n",
        "\n",
        "_Hendrik Erz, Institute for Analytical Sociology | <hendrik.erz@liu.se> | Twitter: @sahiralsaid_\n",
        "\n",
        "Welcome to the practical part of the NLP Workshop! In this notebook, you will try out some of the methods covered in the theoretical section. In particular, the methods covered will be:\n",
        "\n",
        "* tf-idf scores\n",
        "* topic modeling\n",
        "* Word2Vec\n",
        "\n",
        "Below, you will see several exercises that cover most of the steps from an unprocessed text corpus to a final trained model, and, lastly the analysis step.\n",
        "\n",
        "You will work on these examples in smaller groups with guidance from me."
      ],
      "metadata": {
        "id": "TlOmTfmIQPMK"
      }
    },
    {
      "cell_type": "markdown",
      "source": [
        "## Preliminaries: Loading the Corpus\n",
        "\n",
        "Your task in this exercise is to write a function that will return parts of the corpus in a way that the models we are using works with. Here, we will be working with a corpus of the **[States of the Union (SOTU)](https://en.wikipedia.org/wiki/State_of_the_Union) of the U.S. presidents**.\n",
        "\n",
        "***\n",
        "\n",
        "The first step is always to load the corpus. We will use a **generator** for this, since a generator helps us keep the memory footprint small and therefore to keep the model training times low.\n",
        "\n",
        "Normally, you would have the corpus downloaded to your computer, but since we're on a Google Colab, we'll have to retrieve it from the web first. Since I provide the corpus, below you can find a ready-made function that will automatically return the corpus in the following format:\n",
        "\n",
        "```python\n",
        "corpus = [\n",
        "    ('This is a speech from a republican', 'R'),\n",
        "    ('This is a speech from a democrat', 'D'),\n",
        "    # ...\n",
        "]\n",
        "```\n",
        "\n",
        "As you can see, you will get from this generator function a list of **tuples**. The first element is always a speech, the second element is a letter indicating the president's party. The party codes are as follows:\n",
        "\n",
        "* R: Republican\n",
        "* D: Democrat\n",
        "* W: Whig\n",
        "* F: Federalist\n",
        "* DR: Democratic-Republican\n",
        "* na: No party\n",
        "* NU: National Union\n",
        "\n",
        "***\n",
        "\n",
        "**Whenever you need the speeches, just call `speeches()` in your code**"
      ],
      "metadata": {
        "id": "8bOzIeukQxKZ"
      }
    },
    {
      "cell_type": "code",
      "source": [
        "import os\n",
        "import urllib.request as request\n",
        "import shutil\n",
        "\n",
        "def maybe_download_file():\n",
        "    \"\"\"This function downloads the corpus to the VM\"\"\"\n",
        "    outfile = \"sotu.csv\"\n",
        "    # The file is about 12MB large and contains 251 speeches.\n",
        "    file_link = \"https://gist.githubusercontent.com/nathanlesage/241cecdbd9a2f97146784abdb063d566/raw/26c17e63889575900cf0140eadcb84056193c78e/sotu.csv\"\n",
        "    if not os.path.exists (outfile):\n",
        "        with request.urlopen(file_link) as response, open(outfile, 'wb') as fp:\n",
        "            shutil.copyfileobj(response, fp)\n",
        "\n",
        "def speeches ():\n",
        "    \"\"\"A generator that yields (speech, party) tuples\"\"\"\n",
        "    maybe_download_file()\n",
        "\n",
        "    with open(\"sotu.csv\", \"r\") as fp:\n",
        "        for line in fp:\n",
        "            speech, party = line.split('\\t')\n",
        "            yield (speech, party)"
      ],
      "metadata": {
        "id": "aogeN5TsSNZR"
      },
      "execution_count": 17,
      "outputs": []
    },
    {
      "cell_type": "markdown",
      "source": [
        "## Computing tf-idf scores\n",
        "\n",
        "The most simple way to begin an analysis is by calculating tf-idf scores. Here we will do this \"manually\" so that you get a sense for what this means. For practical usage, there are some libraries that already do that for you.\n",
        "\n",
        "Calculating tf-idf scores consists of two steps:\n",
        "\n",
        "1. Define a function that preprocesses the speeches and returns individual tokens\n",
        "2. Call that function, count the words and calculate the tf-idf scores.\n",
        "\n",
        "Remember, tf-idf is defined as:\n",
        "\n",
        "$$\n",
        "{\\displaystyle \\text{tf-idf} (t, d, D) = \\mathrm{tf} (t,d) \\times \\mathrm{idf}}(t, D)\n",
        "$$\n",
        "\n",
        "where\n",
        "\n",
        "$$\n",
        "{\\displaystyle \\mathrm {tf} (t,d)={\\frac {f_{t,d}}{\\sum _{t'\\in d}{f_{t',d}}}}}\n",
        "$$\n",
        "\n",
        "with $t$ = the term in question, $t'$ = all other terms, and $f_t$ = the relative frequency of the term. And:\n",
        "\n",
        "$$\n",
        " \\mathrm{idf}(t, D) =  \\log \\frac{N}{1 + D}\n",
        "$$\n",
        "\n",
        "with $N$ = total number of documents in the corpus and $D$ = number of documents that contain term $t$."
      ],
      "metadata": {
        "id": "PC-rk7RST298"
      }
    },
    {
      "cell_type": "markdown",
      "source": [
        "### Exercise 1: Preprocess the text for tf-idf\n",
        "\n",
        "Below, write a function that takes speeches as returned from the function above and returns a list of tokens. You should remove digits, punctuation marks, and other symbols that do not comprise regular, English words.\n",
        "\n",
        "> TIP: The NLTK package offers a lot of useful functions for working with natural language. It includes functions to remove so-called stopwords and to tokenize a text. Also, the String class of Python provides additional easy functions you can use."
      ],
      "metadata": {
        "id": "nt9zLHzCvEZu"
      }
    },
    {
      "cell_type": "code",
      "source": [
        "def preprocess_speeches():\n",
        "    for speech, _ in speeches():\n",
        "        # TODO: Replace the following line with your preprocessing code. You should\n",
        "        # return a list of tokens, e.g., ['the', 'cat', 'sat', 'on', 'the', 'mat']\n",
        "        yield speech"
      ],
      "metadata": {
        "id": "hmpNEFrJTbqk"
      },
      "execution_count": null,
      "outputs": []
    },
    {
      "cell_type": "markdown",
      "source": [
        "### Exercise 2: Calculate tf-idf scores\n",
        "\n",
        "Below, write a function that takes the lists of tokens returned by the `preprocess_speeches()` function and returns a dictionary of a tf-idf scores for each word.\n",
        "\n",
        "> Remember that you will have to make several passes over the words, since you do not just need to calculate the relative frequencies of terms within a single document, but also which other documents contain a term. To index the documents, it suffices to use indices from 0 to the number of documents - 1."
      ],
      "metadata": {
        "id": "HjaNUs1KeK9B"
      }
    },
    {
      "cell_type": "code",
      "source": [
        "def calculate_tf_idf ():\n",
        "    tfidf = dict()\n",
        "    # The dictionary should look like this:\n",
        "    # {\n",
        "    #   0: {\n",
        "    #     'word1': 0.4325,\n",
        "    #     'word2': 0.9512,\n",
        "    #     ...\n",
        "    #   },\n",
        "    #   1: {\n",
        "    #     'word2': 0.124,\n",
        "    #     ...\n",
        "    #   },\n",
        "    #  ...\n",
        "    # }\n",
        "\n",
        "    # TODO: Add your code here\n",
        "\n",
        "    return tfidf"
      ],
      "metadata": {
        "id": "zlf364UDeaao"
      },
      "execution_count": 3,
      "outputs": []
    },
    {
      "cell_type": "markdown",
      "source": [
        "### Exercise 3: Analysis of tf-idf scores\n",
        "\n",
        "Below, write code to print out the highest scoring word for each speech, as well as, afterwards, the lowest-scoring word.\n",
        "\n",
        "Explain what makes the words important or unimportant, and what this means in the context of the SOTU corpus."
      ],
      "metadata": {
        "id": "UwTqkGzUfWCf"
      }
    },
    {
      "cell_type": "code",
      "source": [
        "tfidf = calculate_tf_idf()\n",
        "\n",
        "# TODO: Add your code here"
      ],
      "metadata": {
        "id": "bN09mxipgBBV"
      },
      "execution_count": 2,
      "outputs": []
    },
    {
      "cell_type": "markdown",
      "source": [
        "## Running a Topic Model\n",
        "\n",
        "The next step to see what is inside our corpus is to run a topic model. The most common model is Latent Dirichlet Allocation (LDA). The library `sklearn` already provides such a model. However, again, here we have to preprocess the sentences. However, this time, we have to do it differently.\n",
        "\n",
        "Running an LDA model requires a so-called Document-Term Matrix (DTM). In it, documents are defined as \"one hot\"-vectors. The matrix has the shape `(number of documents, number of words)`, and each cell is set to `0` if the document does not contain the word, and `1` if it does.\n",
        "\n",
        "With the `preprocess_speeches()` from above, we already have a function that spits out our tokens. We now just need to build the DTM based on that. Building a DTM consists normally of these steps:\n",
        "\n",
        "1. Create a vocabulary that contains every token within the whole corpus\n",
        "2. Optionally, remove the most often occurring and the least often occurring terms to reduce the amount of words\n",
        "3. Go over the corpus and set the corresponding cells in the matrix to `1`, if the document contains a word in the vocabulary."
      ],
      "metadata": {
        "id": "f4LDxhirgDjr"
      }
    },
    {
      "cell_type": "markdown",
      "source": [
        "### Exercise 4: Build a Vocabulary\n",
        "\n",
        "We will need the vocabulary several times, so it makes sense to write a dedicated function for it. The easiest form of a vocabulary is a dictionary that maps words to indices:\n",
        "\n",
        "```python\n",
        "vocab = {\n",
        "    'word': 0,\n",
        "    'word2': 1,\n",
        "    # ...\n",
        "}\n",
        "```\n",
        "\n",
        "Since we also need to figure out words by their indices, we should also create a so-called `i2w`-dictionary. The `i2w` performs the reverse lookup and maps indices to words:\n",
        "\n",
        "```python\n",
        "iw2 = {\n",
        "    0: 'word',\n",
        "    1: 'word2',\n",
        "    # ...\n",
        "}\n",
        "```\n",
        "\n",
        "Below, write a function that returns both a vocab and an i2w."
      ],
      "metadata": {
        "id": "lVDE8UhMy_SY"
      }
    },
    {
      "cell_type": "code",
      "source": [
        "def build_vocab ():\n",
        "    vocab = {}\n",
        "    i2w = {}\n",
        "\n",
        "    # TODO: Add your code here\n",
        "\n",
        "    return vocab, i2w"
      ],
      "metadata": {
        "id": "cYkvFH6Fzlkd"
      },
      "execution_count": 1,
      "outputs": []
    },
    {
      "cell_type": "markdown",
      "source": [
        "### Exercise 5: Build a DTM\n",
        "\n",
        "Below, write a function that creates a DTM. We have already provided a matrix that is set to all zeros and can be fed into the LDA function."
      ],
      "metadata": {
        "id": "fTtUrW9iyM6U"
      }
    },
    {
      "cell_type": "code",
      "source": [
        "import numpy as np\n",
        "\n",
        "def build_dtm ():\n",
        "    # Here we already provide the DTM in a format suitable for the LDA function.\n",
        "    # Just adapt the shape of the matrix with the correct number of documents\n",
        "    # and words in the vocabulary below.\n",
        "    n_documents = 1 # TODO: Adapt\n",
        "    n_words = 1 # TODO: Adapt\n",
        "    dtm = np.zeros((n_documents, n_words), dtype=np.longlong)\n",
        "\n",
        "    # TODO: Add your own code here\n",
        "\n",
        "    return dtm"
      ],
      "metadata": {
        "id": "qXhoT2Jeh3FJ"
      },
      "execution_count": null,
      "outputs": []
    },
    {
      "cell_type": "markdown",
      "source": [
        "### Exercise 6: Run the Topic model\n",
        "\n",
        "Below, write a function that trains a topic model. I have already added the correct function import for you. One thing that you will need to do, however, is figure out three hyperparameters: K, alpha, and beta.\n",
        "\n",
        "Since we are dealing with a small corpus, let us just set $K = 1$. However, you still need to figure out a good alpha and a good beta. Beta should normally be larger than alpha, and both should be smaller than 0.5. Feel free to run the model several times while doing exercise 6 to figure out good values."
      ],
      "metadata": {
        "id": "iOxl2vJJikKL"
      }
    },
    {
      "cell_type": "code",
      "source": [
        "from sklearn.decomposition import LatentDirichletAllocation\n",
        "\n",
        "def fit_lda_model ():\n",
        "    # TODO: Adapt the parameters for the LDA model\n",
        "    model = LatentDirichletAllocation()\n",
        "\n",
        "    # TODO: Train the LDA model on your DTM.\n",
        "\n",
        "    return model"
      ],
      "metadata": {
        "id": "m42pLJa7is6A"
      },
      "execution_count": null,
      "outputs": []
    },
    {
      "cell_type": "markdown",
      "source": [
        "### Exercise 7: Analyze the topic model\n",
        "\n",
        "The last step in this exercise is to analyse the topic model. The most common method is to simply output the most important words (here, let us use 10 words) for each topic and see if you can make out any semantic topics.\n",
        "\n",
        "> Below, write a function that prints the ten most important words for each topic. TIP: In order to sort the words correctly, you can use the functions `np.argsort` and, afterwards, `np.fliplr`, to reverse the order of the top words. Additionally, the topic-term-matrix is accessible with the property `components_` of the trained model. The shape of this matrix is `(n_topics, n_words)`."
      ],
      "metadata": {
        "id": "P9RRDWX5jPHU"
      }
    },
    {
      "cell_type": "code",
      "source": [
        "def print_top_words (model):\n",
        "    # TODO: Add your code here\n",
        "    pass"
      ],
      "metadata": {
        "id": "3szwevOvj8Qy"
      },
      "execution_count": 3,
      "outputs": []
    },
    {
      "cell_type": "markdown",
      "source": [
        "### Running Word2Vec\n",
        "\n",
        "The most advanced NLP method we will cover today is a Word2Vec model. Such a model encodes co-occurrence patterns of words in so-called word embeddings, vectors of numbers with 50, 100, 200, or 300 dimensions.\n",
        "\n",
        "Here, you will write the least code since we will be using the gensim-library to run Word2Vec. However, due to requirements of the Word2Vec algorithms, we need to write a simple class that the Word2Vec model can use. Since engineering is not part of this workshop, I have provided this class already:"
      ],
      "metadata": {
        "id": "ac2FqixBzziY"
      }
    },
    {
      "cell_type": "code",
      "source": [
        "class RestartableGenerator:\n",
        "    def __init__ (self, func):\n",
        "        self.func = func\n",
        "\n",
        "    def __iter__ (self):\n",
        "        return self.func()\n",
        "\n",
        "# Create a new instance of this class by calling RestartableGenerator(preprocess_speeches) and pass that to Word2Vec"
      ],
      "metadata": {
        "id": "WNoCVn730bFp"
      },
      "execution_count": 2,
      "outputs": []
    },
    {
      "cell_type": "markdown",
      "source": [
        "### Exercise 8: Run Word2Vec\n",
        "\n",
        "Below, write code that imports gensim's Word2Vec model and run it on our corpus, utilizing the `RestartableGenerator` class so that Word2Vec can work with your preprocessing generator.\n",
        "\n",
        "Train two models, one with a `window size` of 5, and one with 30."
      ],
      "metadata": {
        "id": "wF-qkFnL0vOY"
      }
    },
    {
      "cell_type": "code",
      "source": [
        "# TODO: Add your code here"
      ],
      "metadata": {
        "id": "uF__0S4E0nYF"
      },
      "execution_count": null,
      "outputs": []
    },
    {
      "cell_type": "markdown",
      "source": [
        "### Exercise 9: Analyze the word embeddings\n",
        "\n",
        "As a last exercise for today, here we analyze the word embeddings. Word embeddings are very good to find out what words are related to others. On gensim's model, you can check so by utilizing `model.wv.most_similar('word')`.\n",
        "\n",
        "> Below, print out the most similar words for `america`, `government`, `bank`, and `war` for both models."
      ],
      "metadata": {
        "id": "oN9wQDhC1mtr"
      }
    },
    {
      "cell_type": "code",
      "source": [
        "# TODO: Add your code here"
      ],
      "metadata": {
        "id": "uLM9FcP715SG"
      },
      "execution_count": null,
      "outputs": []
    }
  ]
}