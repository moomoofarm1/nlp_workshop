{
  "cells": [
    {
      "attachments": {},
      "cell_type": "markdown",
      "metadata": {
        "id": "TlOmTfmIQPMK"
      },
      "source": [
        "# SICSS Norrköping 2023: Text Analysis (SOLUTIONS)\n",
        "\n",
        "_Hendrik Erz, Institute for Analytical Sociology | <hendrik.erz@liu.se> | Twitter: @sahiralsaid_\n",
        "\n",
        "Welcome to the practical part of the Text Analaysis day! In this notebook, you will try out some of the methods covered in the morning lecture. In particular, the methods covered will be:\n",
        "\n",
        "* tf-idf scores\n",
        "* topic modeling\n",
        "* Word2Vec\n",
        "\n",
        "Below, you will see several exercises that cover most of the steps from an unprocessed text corpus to a final trained model, and, lastly the analysis step.\n",
        "\n",
        "You will work on these examples in smaller groups with guidance from me."
      ]
    },
    {
      "attachments": {},
      "cell_type": "markdown",
      "metadata": {
        "id": "8bOzIeukQxKZ"
      },
      "source": [
        "## Preliminaries: Loading the Corpus\n",
        "\n",
        "Your task in this exercise is to write a function that will return parts of the corpus in a way that the models we are using works with. Here, we will be working with a corpus of the **[States of the Union (SOTU)](https://en.wikipedia.org/wiki/State_of_the_Union) of the U.S. presidents**.\n",
        "\n",
        "***\n",
        "\n",
        "The first step is always to load the corpus. We will use a **generator** for this, since a generator helps us keep the memory footprint small and therefore to keep the model training times low.\n",
        "\n",
        "Normally, you would have the corpus downloaded to your computer, but since we're on a Google Colab, we'll have to retrieve it from the web first. Since I provide the corpus, below you can find a ready-made function that will automatically return the corpus in the following format:\n",
        "\n",
        "```python\n",
        "corpus = [\n",
        "    ('This is a speech from a republican', 'R'),\n",
        "    ('This is a speech from a democrat', 'D'),\n",
        "    # ...\n",
        "]\n",
        "```\n",
        "\n",
        "As you can see, you will get from this generator function a list of **tuples**. The first element is always a speech, the second element is a letter indicating the president's party. The party codes are as follows:\n",
        "\n",
        "* R: Republican\n",
        "* D: Democrat\n",
        "* W: Whig\n",
        "* F: Federalist\n",
        "* DR: Democratic-Republican\n",
        "* na: No party\n",
        "* NU: National Union\n",
        "\n",
        "***\n",
        "\n",
        "**Whenever you need the speeches, just call `speeches()` in your code**"
      ]
    },
    {
      "cell_type": "code",
      "execution_count": 99,
      "metadata": {
        "id": "aogeN5TsSNZR"
      },
      "outputs": [],
      "source": [
        "def speeches ():\n",
        "  \"\"\"A generator that yields (speech, party) tuples\"\"\"\n",
        "  # NOTE: Ensure that the file is in the same directory as this notebook.\n",
        "  with open(\"sotu.csv\", \"r\", encoding=\"utf-8\") as fp:\n",
        "    next(fp) # Skip the header\n",
        "    for line in fp:\n",
        "      # title, author, date, text = line.strip().split('\\t')\n",
        "      # yield (title, author, date, text)\n",
        "      speech, party = line.strip().split('\\t')\n",
        "      yield (speech, party)"
      ]
    },
    {
      "cell_type": "code",
      "execution_count": 34,
      "metadata": {
        "colab": {
          "base_uri": "https://localhost:8080/"
        },
        "id": "dZ9cSO93VppW",
        "outputId": "bbfa1032-1d83-4ece-edf9-75d59a8f749e"
      },
      "outputs": [
        {
          "data": {
            "text/plain": [
              "251"
            ]
          },
          "execution_count": 34,
          "metadata": {},
          "output_type": "execute_result"
        }
      ],
      "source": [
        "# Make sure we have all 251 speeches in our generator\n",
        "sum([1 for x in speeches()])"
      ]
    },
    {
      "attachments": {},
      "cell_type": "markdown",
      "metadata": {},
      "source": [
        "## Preliminaries: Installing the necessary packages\n",
        "\n",
        "This workbook relies on a set of packages. Depending on what package manager you use, there are various ways to install them (e.g., with Conda, pip, or virtualenv).\n",
        "\n",
        "Make sure to install them according to how you have set up Python. If you use plain `pip`, here is how you can install them:\n",
        "\n",
        "```bash\n",
        "python -m pip install pandas\n",
        "python -m pip install numpy\n",
        "python -m pip install gensim\n",
        "python -m pip install sklearn\n",
        "python -m pip install nltk\n",
        "python -m pip install matplotlib\n",
        "```"
      ]
    },
    {
      "attachments": {},
      "cell_type": "markdown",
      "metadata": {},
      "source": [
        "## Getting to Know the Corpus\n",
        "\n",
        "Before we dive into the corpus, we should make sure we have some bearings in the corpus. For this, a very simple method is to simply start counting words. This is not necessarily the most informative method, but it will give us some data that we can use to make some sense of the corpus.\n",
        "\n",
        "Getting to some word counts involves a few steps:\n",
        "\n",
        "1. First, we need a **tokenizer** that can split up a speech into tokens.\n",
        "2. After we have a method of splitting a document into its constitutent words, we can use this information to build a vocabulary.\n",
        "3. We can count words to ensure our corpus looks as it should."
      ]
    },
    {
      "attachments": {},
      "cell_type": "markdown",
      "metadata": {
        "id": "nt9zLHzCvEZu"
      },
      "source": [
        "### Exercise 1: Write a text tokenizer\n",
        "\n",
        "Below, write a function that takes a single speech and returns a list of tokens. You should remove digits, punctuation marks, and other symbols that do not comprise regular, English words. Also, ensure that capitalization of letters does not matter by transforming the speech into lower case first.\n",
        "\n",
        "> TIP: The NLTK package offers a lot of useful functions for working with natural language. It includes functions to remove stopwords and to tokenize a text. Also, the String class of Python provides additional easy functions you can use."
      ]
    },
    {
      "cell_type": "code",
      "execution_count": 38,
      "metadata": {
        "id": "hmpNEFrJTbqk"
      },
      "outputs": [],
      "source": [
        "from nltk.corpus import stopwords\n",
        "from nltk.tokenize import word_tokenize\n",
        "\n",
        "# Loads a common english stopword list\n",
        "stops = stopwords.words('english')\n",
        "\n",
        "def tokenize_speech(speech):\n",
        "  return [t for t in word_tokenize(speech.lower()) if t.isalpha() and t not in stops]"
      ]
    },
    {
      "cell_type": "code",
      "execution_count": 61,
      "metadata": {
        "colab": {
          "base_uri": "https://localhost:8080/"
        },
        "id": "uYkyW1DfXna4",
        "outputId": "072e18e4-3aaa-4f68-fe9e-f04f4c802686"
      },
      "outputs": [
        {
          "data": {
            "text/plain": [
              "['good',\n",
              " 'afternoon',\n",
              " 'beginning',\n",
              " 'new',\n",
              " 'year',\n",
              " 'reflect',\n",
              " 'state',\n",
              " 'american',\n",
              " 'union',\n",
              " 'seek']"
            ]
          },
          "execution_count": 61,
          "metadata": {},
          "output_type": "execute_result"
        }
      ],
      "source": [
        "# Run this cell to see how the preprocessor processes the first speech.\n",
        "first_speech = next(speeches())[0]\n",
        "tokenize_speech(first_speech)[0:10] # Look at the first ten words"
      ]
    },
    {
      "attachments": {},
      "cell_type": "markdown",
      "metadata": {
        "id": "lVDE8UhMy_SY"
      },
      "source": [
        "### Exercise 2: Build a Vocabulary\n",
        "\n",
        "We will need a vocabulary for many of the following steps, so it makes sense to write a dedicated function for it. The easiest form of a vocabulary is a dictionary that maps words to indices:\n",
        "\n",
        "```python\n",
        "vocab = {\n",
        "    'word': 0,\n",
        "    'word2': 1,\n",
        "    # ...\n",
        "}\n",
        "```\n",
        "\n",
        "Since we also need to figure out words by their indices after running some of our methods, we should create a so-called `i2w`-dictionary. The `i2w` (\"index to word\") performs the reverse lookup and maps indices to words:\n",
        "\n",
        "```python\n",
        "iw2 = {\n",
        "    0: 'word',\n",
        "    1: 'word2',\n",
        "    # ...\n",
        "}\n",
        "```\n",
        "\n",
        "We can then use these dictionaries to retrieve indices or words, depending on what we need:\n",
        "\n",
        "```python\n",
        "vocab['president']\n",
        "# > May yield '24'\n",
        "\n",
        "word = i2w[24]\n",
        "# > May yield 'president'\n",
        "```\n",
        "\n",
        "Below, write a function that returns both a vocab and an i2w."
      ]
    },
    {
      "cell_type": "code",
      "execution_count": 40,
      "metadata": {
        "id": "cYkvFH6Fzlkd"
      },
      "outputs": [],
      "source": [
        "def build_vocab ():\n",
        "  # First generate the word -> index mapping\n",
        "  vocab = {}\n",
        "  for speech, _ in speeches():\n",
        "    for token in tokenize_speech(speech):\n",
        "      if not token in vocab:\n",
        "        # This basically adds unseen words to the end of the vocabulary\n",
        "        vocab[token] = len(vocab)\n",
        "\n",
        "  # Now reverse it (important later), i.e. index -> word mapping.\n",
        "  # i2w = index2word\n",
        "  i2w = {}\n",
        "  for token in vocab:\n",
        "    i2w[vocab[token]] = token\n",
        "\n",
        "  return vocab, i2w"
      ]
    },
    {
      "cell_type": "code",
      "execution_count": 46,
      "metadata": {},
      "outputs": [],
      "source": [
        "# Run this cell to create the vocabulary\n",
        "vocab, i2w = build_vocab()"
      ]
    },
    {
      "cell_type": "code",
      "execution_count": 62,
      "metadata": {},
      "outputs": [
        {
          "data": {
            "text/plain": [
              "['good',\n",
              " 'afternoon',\n",
              " 'beginning',\n",
              " 'new',\n",
              " 'year',\n",
              " 'reflect',\n",
              " 'state',\n",
              " 'american',\n",
              " 'union',\n",
              " 'seek']"
            ]
          },
          "execution_count": 62,
          "metadata": {},
          "output_type": "execute_result"
        }
      ],
      "source": [
        "# Let us have a first look at the first ten words in our vocabulary. Note how\n",
        "# the first ten words in our vocab equal the first words of the first speech.\n",
        "list(vocab.keys())[0:10]"
      ]
    },
    {
      "attachments": {},
      "cell_type": "markdown",
      "metadata": {},
      "source": [
        "### Exercise 3: Count words\n",
        "\n",
        "The final introductory exercise involves counting words. Python luckily has a useful function for us: `Counter`."
      ]
    },
    {
      "cell_type": "code",
      "execution_count": 47,
      "metadata": {},
      "outputs": [],
      "source": [
        "# Below, write a function that can count the words and returns a list of words\n",
        "# and their frequencies.\n",
        "from collections import Counter\n",
        "\n",
        "def count_words ():\n",
        "  word_counter = Counter()\n",
        "  for speech, _ in speeches():\n",
        "    word_counter.update(tokenize_speech(speech))\n",
        "  return word_counter.most_common()"
      ]
    },
    {
      "cell_type": "code",
      "execution_count": 100,
      "metadata": {},
      "outputs": [
        {
          "name": "stdout",
          "output_type": "stream",
          "text": [
            "Most common words:\n",
            "[('government', 7644), ('states', 6990), ('congress', 5942), ('united', 5202), ('year', 4841), ('people', 4511), ('would', 4343), ('upon', 4253), ('country', 3733), ('must', 3713)]\n",
            "\n",
            "Least common words:\n",
            "[('arabic', 1), ('transforms', 1), ('shuffling', 1), ('screenings', 1), ('wellness', 1), ('computerizing', 1), ('athletics', 1), ('players', 1), ('crescent', 1), ('reentry', 1)]\n"
          ]
        }
      ],
      "source": [
        "# Let us now look at the ten most common, and then ten least common words:\n",
        "\n",
        "words = count_words()\n",
        "\n",
        "print(\"Most common words:\")\n",
        "print(words[0:10])\n",
        "\n",
        "print(\"\")\n",
        "print(\"Least common words:\")\n",
        "print(words[-10:])"
      ]
    },
    {
      "attachments": {},
      "cell_type": "markdown",
      "metadata": {},
      "source": [
        "### Verify Zipf's Law\n",
        "\n",
        "One great way of ensuring that your corpus does not include oddities and spurious data, a very simple verification involves checking for Zipf's law: The fact that a few words are very common, and many words are relatively uncommon. A histogram of words should resemple a logarithmic function.\n",
        "\n",
        "Below, plot the frequencies ordered by rank."
      ]
    },
    {
      "cell_type": "code",
      "execution_count": 101,
      "metadata": {},
      "outputs": [
        {
          "data": {
            "image/png": "[encoded data removed]",
            "text/plain": [
              "<Figure size 640x480 with 1 Axes>"
            ]
          },
          "metadata": {},
          "output_type": "display_data"
        }
      ],
      "source": [
        "import matplotlib.pyplot as plt\n",
        "\n",
        "# Extract only the actual numbers, and sort them by size descending.\n",
        "word_counts = sorted(list(map(lambda x: x[1], words)), reverse=True)\n",
        "\n",
        "plt.plot(range(len(word_counts)), word_counts)\n",
        "plt.yscale(\"log\") # Set the Y-axis to a logarithmic scale.\n",
        "plt.ylabel(\"Frequency\")\n",
        "plt.xlabel(\"Rank\")\n",
        "plt.title(\"Zipf's Law: State of the Union Corpus\")\n",
        "plt.show()"
      ]
    },
    {
      "attachments": {},
      "cell_type": "markdown",
      "metadata": {
        "id": "PC-rk7RST298"
      },
      "source": [
        "## Computing tf-idf scores\n",
        "\n",
        "The most simple way to begin an analysis is by calculating tf-idf scores. You can do this \"manually\", but for practical usage, there are some libraries that already do that for you.\n",
        "\n",
        "Calculating tf-idf scores consists of three steps:\n",
        "\n",
        "1. Calculate the term frequencies of words within each document\n",
        "2. Calculate the inverse document frequency for each word\n",
        "3. For each word in each document, calculate tf-idf by multiplying the document-specific frequency with the word's IDF-score\n",
        "\n",
        "Remember, tf-idf is defined as:\n",
        "\n",
        "$$\n",
        "{\\displaystyle \\text{tf-idf} (t, d, D) = \\mathrm{tf} (t,d) \\times \\mathrm{idf}}(t, D)\n",
        "$$\n",
        "\n",
        "where\n",
        "\n",
        "$$\n",
        "{\\displaystyle \\mathrm {tf} (t,d)={\\frac {f_{t,d}}{\\sum _{t'\\in d}{f_{t',d}}}}}\n",
        "$$\n",
        "\n",
        "with $t$ = the term in question, $t'$ = all other terms, and $f_t$ = the (document)relative frequency of the term. And:\n",
        "\n",
        "$$\n",
        " \\mathrm{idf}(t, D) =  \\log \\frac{N}{1 + D}\n",
        "$$\n",
        "\n",
        "with $N$ = total number of documents in the corpus and $D$ = number of documents that contain term $t$."
      ]
    },
    {
      "attachments": {},
      "cell_type": "markdown",
      "metadata": {
        "id": "HjaNUs1KeK9B"
      },
      "source": [
        "### Exercise 4: Calculate tf-idf scores\n",
        "\n",
        "Below, write a function that calculates tf-idf scores for our corpus and then outputs the most relevant word for each speech.\n",
        "\n",
        "> The library `scikit-learn` has a useful function for that called `TfidfVectorizer`. You will need to pass it the vocabulary and the speeches."
      ]
    },
    {
      "cell_type": "code",
      "execution_count": 78,
      "metadata": {
        "id": "zlf364UDeaao"
      },
      "outputs": [],
      "source": [
        "from sklearn.feature_extraction.text import TfidfVectorizer\n",
        "\n",
        "def calculate_tf_idf ():\n",
        "  vocab, _ = build_vocab()\n",
        "  tfidf = TfidfVectorizer(vocabulary=vocab, tokenizer=tokenize_speech)\n",
        "  text = [speech[0] for speech in speeches()]\n",
        "  # NOTE: fit_transform returns a DTM of size (n_documents x n_words) where each\n",
        "  # cell contains the corresponding tf-idf score.\n",
        "  document_term_matrix = tfidf.fit_transform(text)\n",
        "\n",
        "  # Transform the matrix into a list of dictionaries with the corresponding\n",
        "  # tf-idf scores for easier inspection\n",
        "  tf_idf = list()\n",
        "  n_documents, n_words = document_term_matrix.shape\n",
        "\n",
        "  for doc in range(n_documents):\n",
        "    scores = dict()\n",
        "    for word_idx in range(n_words):\n",
        "      score = document_term_matrix[doc, word_idx]\n",
        "      # NOTE how we have to check if the score is greater than 0. The score will\n",
        "      # be zero for words that are in the vocabulary but not in the document.\n",
        "      if score > 0:\n",
        "        scores[i2w[word_idx]] = document_term_matrix[doc, word_idx]\n",
        "    tf_idf.append(scores)\n",
        "  return tf_idf"
      ]
    },
    {
      "cell_type": "code",
      "execution_count": 79,
      "metadata": {
        "id": "DoJk1kg8f17T"
      },
      "outputs": [
        {
          "name": "stderr",
          "output_type": "stream",
          "text": [
            "/opt/homebrew/Caskroom/miniforge/base/envs/nlpbert/lib/python3.9/site-packages/sklearn/feature_extraction/text.py:528: UserWarning: The parameter 'token_pattern' will not be used since 'tokenizer' is not None'\n",
            "  warnings.warn(\n"
          ]
        }
      ],
      "source": [
        "# Call the function and calculate the tf-idf scores\n",
        "tf_idf = calculate_tf_idf()"
      ]
    },
    {
      "attachments": {},
      "cell_type": "markdown",
      "metadata": {
        "id": "UwTqkGzUfWCf"
      },
      "source": [
        "### Exercise 5: Analysis of tf-idf scores\n",
        "\n",
        "Now that we have calculated tf-idf scores, it is time to have a look at them. Below, write code to print out the highest scoring word for each speech, as well as, afterwards, the lowest-scoring word.\n",
        "\n",
        "Explain what makes the words important or unimportant, and what this means in the context of the SOTU corpus."
      ]
    },
    {
      "cell_type": "code",
      "execution_count": 84,
      "metadata": {
        "colab": {
          "base_uri": "https://localhost:8080/"
        },
        "id": "bN09mxipgBBV",
        "outputId": "c46d5f89-99f8-44cf-f3f3-b5e048b3dac0"
      },
      "outputs": [
        {
          "name": "stdout",
          "output_type": "stream",
          "text": [
            "Most important words (according to tf-idf):\n",
            "inflation, coinage, new, program, minister, democracy, percent, upon, depression, afghanistan, billion, spain, government, shall, gold, corporations, hussein, thank, autocracy, british, nitrogen, applause, united, kids, people, programs, texas, economic, crime, emancipation, ports, embargo, hired, isthmus, megan, croix, years, court, exchequer, challenge, us, interstate, must, gentlemen, blockades, salt, energy, congress, statute, year, development, america, environmental, industrial, soviet, jobs, submarines, hitler, administration, mexico, unrest, derive, tile, great, men, cable, militia, may, century, budget, indians, tariff, slavery, know, oil, delawares, states, banks, enemy, forest, federal, conditions, dollars, help, tonight, islands, heroin, public, bank, vessels, let, vietnam, alliance, world, war, relief, isil, iraq\n",
            "\n",
            "Least important words (according to tf-idf):\n",
            "one, progress, every, time, defense, states, policy, citizens, new, military, act, course, security, give, much, others, necessary, house, support, rights, power, spirit, meet, nations, next, country, state, great, good, also, important, part, two, without, still, public, future, free, make, even, since, national, made, us, freedom, government, increase, take, best, less, yet, resources, service, must, american, ever, may, opportunity, peace, well, could, way, world, would, first, last, congress, united, never, many, nation, war, whether, union, far, people\n"
          ]
        }
      ],
      "source": [
        "words_sorted_by_tfidf = [list(sorted(document.items(), key=lambda x: x[1], reverse=True)) for document in tf_idf]\n",
        "\n",
        "print(\"Most important words (according to tf-idf):\")\n",
        "words = [words[0][0] for words in words_sorted_by_tfidf]\n",
        "print(\", \".join(set(words)))\n",
        "\n",
        "print(\"\")\n",
        "print(\"Least important words (according to tf-idf):\")\n",
        "words = [words[-1][0] for words in words_sorted_by_tfidf]\n",
        "print(\", \".join(set(words)))"
      ]
    },
    {
      "attachments": {},
      "cell_type": "markdown",
      "metadata": {
        "id": "f4LDxhirgDjr"
      },
      "source": [
        "## Running a Topic Model\n",
        "\n",
        "The next step to see what is inside our corpus is to run a topic model. The most common model is Latent Dirichlet Allocation (LDA). The library `sklearn` already provides such a model. However, again, here we have to preprocess the sentences. However, this time, we have to do it differently.\n",
        "\n",
        "Running an LDA model requires a so-called Document-Term Matrix (DTM). In it, documents are defined as \"one hot\"-vectors. The matrix has the shape `(number of documents, number of words)`, and each cell is set to `0` if the document does not contain the word, and `1` if it does.\n",
        "\n",
        "With the `tokenize_speech()` function from above, we already have a function that splits speeches into tokens. We now just need to build the DTM based on that. Building a DTM consists normally of these steps:\n",
        "\n",
        "1. Create a vocabulary that contains every token within the whole corpus\n",
        "2. Optionally, remove the most often occurring and the least often occurring terms to reduce the amount of words\n",
        "3. Go over the corpus and set the corresponding cells in the matrix to `1`, if the document contains a word in the vocabulary."
      ]
    },
    {
      "attachments": {},
      "cell_type": "markdown",
      "metadata": {
        "id": "fTtUrW9iyM6U"
      },
      "source": [
        "### Exercise 6: Build a DTM\n",
        "\n",
        "Below, write a function that creates a DTM. We have already provided a matrix that is set to all zeros and can be fed into the LDA function."
      ]
    },
    {
      "cell_type": "code",
      "execution_count": 86,
      "metadata": {
        "id": "qXhoT2Jeh3FJ"
      },
      "outputs": [],
      "source": [
        "import numpy as np\n",
        "\n",
        "def build_dtm ():\n",
        "  # Retrieve the vocabulary\n",
        "  vocab, i2w = build_vocab()\n",
        "\n",
        "  # Instantiate the DTM with all zeros\n",
        "  n_documents = sum([1 for x in speeches()])\n",
        "  n_words = len(vocab)\n",
        "  dtm = np.zeros((n_documents, n_words), dtype=np.longlong)\n",
        "\n",
        "  # Then, iterate over every document and every word, and set those cells to\n",
        "  # 1 where a word is contained in a document.\n",
        "  for idx, (speech, _) in enumerate(speeches()):\n",
        "    for token in tokenize_speech(speech):\n",
        "      if token in vocab:\n",
        "        # Note how this is the same structure as the output of the tf-idf vectorizer\n",
        "        dtm[idx][vocab[token]] = 1\n",
        "\n",
        "  return dtm"
      ]
    },
    {
      "attachments": {},
      "cell_type": "markdown",
      "metadata": {
        "id": "iOxl2vJJikKL"
      },
      "source": [
        "### Exercise 7: Run the Topic model\n",
        "\n",
        "Below, write a function that trains a topic model. I have already added the correct function import for you. One thing that you will need to do, however, is figure out three hyperparameters: K, alpha, and beta.\n",
        "\n",
        "Since we are dealing with a small corpus, let us just set $K = 1$. However, you still need to figure out a good alpha and a good beta. Beta should normally be larger than alpha, and both should be smaller than 0.5. Feel free to run the model several times while doing exercise 6 to figure out good values."
      ]
    },
    {
      "cell_type": "code",
      "execution_count": 87,
      "metadata": {
        "id": "m42pLJa7is6A"
      },
      "outputs": [],
      "source": [
        "from sklearn.decomposition import LatentDirichletAllocation\n",
        "\n",
        "def fit_lda_model ():\n",
        "  # First, retrieve the DTM and present the hyperparameters for the model.\n",
        "  dtm = build_dtm()\n",
        "  K = 10\n",
        "  alpha = 0.001\n",
        "  beta = 0.01\n",
        "\n",
        "  # Then instantiate the model, and fit it to our data\n",
        "  model = LatentDirichletAllocation(\n",
        "    n_components=K,\n",
        "    doc_topic_prior=alpha,\n",
        "    topic_word_prior=beta\n",
        "  )\n",
        "  model.fit(dtm)\n",
        "\n",
        "  return model"
      ]
    },
    {
      "cell_type": "code",
      "execution_count": 88,
      "metadata": {
        "id": "qvRyMb9Dus1R"
      },
      "outputs": [],
      "source": [
        "# Train a model\n",
        "model = fit_lda_model()"
      ]
    },
    {
      "attachments": {},
      "cell_type": "markdown",
      "metadata": {
        "id": "P9RRDWX5jPHU"
      },
      "source": [
        "### Exercise 8: Analyze the topic model\n",
        "\n",
        "The last step in this exercise is to analyse the topic model. The most common method is to simply output the most important words (here, let us use 10 words) for each topic and see if you can make out any semantic topics.\n",
        "\n",
        "> Below, write a function that prints the ten most important words for each topic. Try to think of fitting topic labels. What topic do the words seem to focus on? TIP: In order to sort the words correctly, you can use the functions `np.argsort` and, afterwards, `np.fliplr`, to reverse the order of the top words. Additionally, the topic-term-matrix is accessible with the property `components_` of the trained model. The shape of this matrix is `(n_topics, n_words)`."
      ]
    },
    {
      "cell_type": "code",
      "execution_count": 89,
      "metadata": {
        "id": "3szwevOvj8Qy"
      },
      "outputs": [],
      "source": [
        "def print_top_words (model):\n",
        "  # Since we don't want to output numbers, we need an index->word mapping\n",
        "  _, i2w = build_vocab()\n",
        "\n",
        "  # How many words do we want to output?\n",
        "  L = 10\n",
        "\n",
        "  # This line first sorts every row ascending, i.e. the least important words\n",
        "  # for each topic are at the beginning, the most important words at the end.\n",
        "  # We then flip every row around so that the most important words are at the\n",
        "  # beginning. Lastly, we keep only the first ten words.\n",
        "  topic_list = np.fliplr(np.argsort(model.components_, axis=1))[:, :L] # Sort each row\n",
        "  for idx, words in enumerate(topic_list):\n",
        "    # Here we transform the indices from the topic_list to the actual words\n",
        "    w = [i2w[wd] for wd in words]\n",
        "    # Then print it as a comma-separated list\n",
        "    print(f\"Topic {idx + 1}: \" + \", \".join(w))"
      ]
    },
    {
      "cell_type": "code",
      "execution_count": 90,
      "metadata": {
        "colab": {
          "base_uri": "https://localhost:8080/"
        },
        "id": "fZCTr_qCuJ6M",
        "outputId": "10f6456e-24f3-466b-f65d-ef25c7a32ed9"
      },
      "outputs": [
        {
          "name": "stdout",
          "output_type": "stream",
          "text": [
            "Topic 1: enterprises, withdrew, putting, majesty, negotiations, ordinary, special, near, quarter, meet\n",
            "Topic 2: methods, cent, bureau, needs, requirements, conference, thoroughly, per, railway, international\n",
            "Topic 3: interdependence, administratively, structural, deregulation, enhancing, multilateral, un, implement, issued, capabilities\n",
            "Topic 4: easy, regulation, departments, earnestly, effective, questions, wherever, seems, difficult, treasury\n",
            "Topic 5: americans, let, jobs, million, freedom, together, say, know, build, making\n",
            "Topic 6: glory, amity, comforts, relation, patriotism, reparation, minister, maritime, terms, immediate\n",
            "Topic 7: restrict, obstacles, appliances, adaptability, perseverance, presidents, perfecting, deserves, embezzlement, chagres\n",
            "Topic 8: wrong, addressed, rather, indeed, unnecessary, makes, specific, therefore, enemies, call\n",
            "Topic 9: program, economic, years, nation, new, people, congress, one, states, many\n",
            "Topic 10: citizens, house, representatives, senate, state, circumstances, powers, war, due, subject\n"
          ]
        }
      ],
      "source": [
        "# Call the function\n",
        "print_top_words(model)"
      ]
    },
    {
      "attachments": {},
      "cell_type": "markdown",
      "metadata": {
        "id": "ac2FqixBzziY"
      },
      "source": [
        "## Running Word2Vec\n",
        "\n",
        "The most advanced NLP method we will cover today is a Word2Vec model. Such a model encodes co-occurrence patterns of words in so-called word embeddings, vectors of numbers with 50, 100, 200, or 300 dimensions.\n",
        "\n",
        "Here, you will write the least code since we will be using the gensim-library to run Word2Vec. Despite it being the (mathematically) most complex model, it can be run very fast and efficiently."
      ]
    },
    {
      "attachments": {},
      "cell_type": "markdown",
      "metadata": {
        "id": "wF-qkFnL0vOY"
      },
      "source": [
        "### Exercise 9: Run Word2Vec\n",
        "\n",
        "Below, write code that uses gensim's Word2Vec model and run it on our corpus.\n",
        "\n",
        "Train two models, one with a `window size` of 5, and one with 30."
      ]
    },
    {
      "cell_type": "code",
      "execution_count": 102,
      "metadata": {
        "id": "uF__0S4E0nYF"
      },
      "outputs": [],
      "source": [
        "from gensim.models import Word2Vec\n",
        "\n",
        "tokenized_speeches = [tokenize_speech(x[0]) for x in speeches()]\n",
        "\n",
        "gen = RestartableGenerator(tokenized_speeches)\n",
        "\n",
        "# The most complex model, but the least required code!\n",
        "w2v_5 = Word2Vec(tokenized_speeches, window=5)\n",
        "w2v_30 = Word2Vec(tokenized_speeches, window=30)"
      ]
    },
    {
      "attachments": {},
      "cell_type": "markdown",
      "metadata": {
        "id": "oN9wQDhC1mtr"
      },
      "source": [
        "### Exercise 10: Analyze the word embeddings\n",
        "\n",
        "As a last exercise for today, here we analyze the word embeddings. Word embeddings are very good to find out what words are related to others. On gensim's model, you can check so by utilizing `model.wv.most_similar('word')`.\n",
        "\n",
        "> Below, print out the most similar words for `america`, `government`, `bank`, and `war` for both models."
      ]
    },
    {
      "cell_type": "code",
      "execution_count": 103,
      "metadata": {
        "colab": {
          "base_uri": "https://localhost:8080/"
        },
        "id": "uLM9FcP715SG",
        "outputId": "93d2b349-6414-4c20-a671-c94effbec35a"
      },
      "outputs": [
        {
          "name": "stdout",
          "output_type": "stream",
          "text": [
            "Most similar words to 'america' (window=5)\n",
            "[('allies', 0.8704074621200562), ('friends', 0.848436176776886), ('iraq', 0.8428818583488464), ('around', 0.8394637703895569), ('democracy', 0.8362455368041992), ('iran', 0.8356893062591553), ('terror', 0.8338260054588318), ('leadership', 0.8317936062812805), ('terrorists', 0.8245202898979187), ('resolve', 0.8239558935165405)]\n",
            "\n",
            "Most similar words to 'america' (window=30)\n",
            "[('globalization', 0.8788360953330994), ('around', 0.8700674176216125), ('proud', 0.8525446057319641), ('inside', 0.8471522331237793), ('stirred', 0.844127357006073), ('allen', 0.8426351547241211), ('unique', 0.841605007648468), ('ukraine', 0.8385193943977356), ('century', 0.8363423347473145), ('middle', 0.8324938416481018)]\n",
            "\n",
            "Most similar words to 'government' (window=5)\n",
            "[('courts', 0.551762044429779), ('authorities', 0.5485338568687439), ('functions', 0.5290886163711548), ('authority', 0.516874372959137), ('jurisdiction', 0.5123163461685181), ('executive', 0.5091443061828613), ('cognizable', 0.49812784790992737), ('attorney', 0.49504467844963074), ('constitution', 0.4924260079860687), ('ordained', 0.48456883430480957)]\n",
            "\n",
            "Most similar words to 'government' (window=30)\n",
            "[('simplest', 0.6603356003761292), ('subverted', 0.6359578967094421), ('inviolate', 0.6155490279197693), ('direct', 0.597596287727356), ('functions', 0.5882161855697632), ('obligations', 0.5876648426055908), ('governments', 0.5802813768386841), ('comprehend', 0.5795429348945618), ('compulsion', 0.5744812488555908), ('assume', 0.5713540315628052)]\n",
            "\n",
            "Most similar words to 'bank' (window=5)\n",
            "[('banks', 0.909297525882721), ('deposit', 0.881492018699646), ('notes', 0.8750790953636169), ('deposits', 0.8615162372589111), ('indebtedness', 0.84493088722229), ('redemption', 0.8433682322502136), ('circulating', 0.8330632448196411), ('circulation', 0.8253414034843445), ('bonds', 0.824672281742096), ('debts', 0.8190558552742004)]\n",
            "\n",
            "Most similar words to 'bank' (window=30)\n",
            "[('banks', 0.9319112300872803), ('deposit', 0.9017258882522583), ('circulation', 0.8894714713096619), ('circulating', 0.8747782111167908), ('notes', 0.8675515055656433), ('coin', 0.8646379709243774), ('treasurer', 0.8625330328941345), ('discounts', 0.858942985534668), ('deposits', 0.8547495603561401), ('banking', 0.85079425573349)]\n",
            "\n",
            "Most similar words to 'war' (window=5)\n",
            "[('ii', 0.6421538591384888), ('troops', 0.6338760852813721), ('forces', 0.6238703727722168), ('force', 0.6216541528701782), ('navy', 0.6214759349822998), ('army', 0.5980451107025146), ('cold', 0.584296703338623), ('servile', 0.5698808431625366), ('enemy', 0.5663950443267822), ('ships', 0.5603572726249695)]\n",
            "\n",
            "Most similar words to 'war' (window=30)\n",
            "[('arms', 0.8276724815368652), ('armed', 0.8025017380714417), ('defensive', 0.7985805869102478), ('force', 0.7944998145103455), ('armies', 0.7862803936004639), ('waging', 0.7839367389678955), ('military', 0.7696940898895264), ('navies', 0.7645861506462097), ('forces', 0.7625108957290649), ('enemy', 0.7586199641227722)]\n"
          ]
        }
      ],
      "source": [
        "print(\"Most similar words to 'america' (window=5)\")\n",
        "print(w2v_5.wv.most_similar('america'))\n",
        "print(\"\")\n",
        "print(\"Most similar words to 'america' (window=30)\")\n",
        "print(w2v_30.wv.most_similar('america'))\n",
        "print(\"\")\n",
        "print(\"Most similar words to 'government' (window=5)\")\n",
        "print(w2v_5.wv.most_similar('government'))\n",
        "print(\"\")\n",
        "print(\"Most similar words to 'government' (window=30)\")\n",
        "print(w2v_30.wv.most_similar('government'))\n",
        "print(\"\")\n",
        "print(\"Most similar words to 'bank' (window=5)\")\n",
        "print(w2v_5.wv.most_similar('bank'))\n",
        "print(\"\")\n",
        "print(\"Most similar words to 'bank' (window=30)\")\n",
        "print(w2v_30.wv.most_similar('bank'))\n",
        "print(\"\")\n",
        "print(\"Most similar words to 'war' (window=5)\")\n",
        "print(w2v_5.wv.most_similar('war'))\n",
        "print(\"\")\n",
        "print(\"Most similar words to 'war' (window=30)\")\n",
        "print(w2v_30.wv.most_similar('war'))"
      ]
    },
    {
      "attachments": {},
      "cell_type": "markdown",
      "metadata": {},
      "source": [
        "## Conclusion\n",
        "\n",
        "This concludes today's introduction into text analysis methods. Notice how we produced almost no plots: These methods are all great for getting a bearing on some corpus. Once you have found some interesting patterns, it is time to throw the results of one or more of the above methods into a model and test hypotheses with it.\n",
        "\n",
        "Regardless of whether you have used the provided corpus, or your own: Try to come up with some research questions over the afternoon that you could check. Maybe this leads to a great project idea?\n",
        "\n",
        "If you have further questions regarding these methods, do not hesitate to send me a mail to <hendrik.erz@liu.se> or ping me on Twitter <https://twitter.com/sahiralsaid>!"
      ]
    }
  ],
  "metadata": {
    "colab": {
      "collapsed_sections": [],
      "name": "NLP Workshop.ipynb",
      "provenance": []
    },
    "kernelspec": {
      "display_name": "Python 3",
      "name": "python3"
    },
    "language_info": {
      "codemirror_mode": {
        "name": "ipython",
        "version": 3
      },
      "file_extension": ".py",
      "mimetype": "text/x-python",
      "name": "python",
      "nbconvert_exporter": "python",
      "pygments_lexer": "ipython3",
      "version": "3.9.16"
    }
  },
  "nbformat": 4,
  "nbformat_minor": 0
}
